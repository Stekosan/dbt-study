{
 "cells": [
  {
   "cell_type": "code",
   "execution_count": 1,
   "metadata": {},
   "outputs": [],
   "source": [
    "#%pip install duckdb\n",
    "#%pip install dbt-duckdb"
   ]
  },
  {
   "cell_type": "code",
   "execution_count": 4,
   "metadata": {},
   "outputs": [
    {
     "name": "stdout",
     "output_type": "stream",
     "text": [
      "Requirement already satisfied: dbt-duckdb in c:\\users\\steve\\appdata\\local\\programs\\python\\python312\\lib\\site-packages (1.8.1)\n",
      "Collecting dbt-duckdb\n",
      "  Downloading dbt_duckdb-1.8.4-py3-none-any.whl.metadata (24 kB)\n",
      "Requirement already satisfied: dbt-common<2,>=1 in c:\\users\\steve\\appdata\\local\\programs\\python\\python312\\lib\\site-packages (from dbt-duckdb) (1.5.0)\n",
      "Requirement already satisfied: dbt-adapters<2,>=1 in c:\\users\\steve\\appdata\\local\\programs\\python\\python312\\lib\\site-packages (from dbt-duckdb) (1.3.2)\n",
      "Requirement already satisfied: duckdb>=1.0.0 in c:\\users\\steve\\appdata\\local\\programs\\python\\python312\\lib\\site-packages (from dbt-duckdb) (1.0.0)\n",
      "Requirement already satisfied: dbt-core>=1.8.0 in c:\\users\\steve\\appdata\\local\\programs\\python\\python312\\lib\\site-packages (from dbt-duckdb) (1.8.3)\n",
      "Requirement already satisfied: agate<2.0,>=1.0 in c:\\users\\steve\\appdata\\local\\programs\\python\\python312\\lib\\site-packages (from dbt-adapters<2,>=1->dbt-duckdb) (1.9.1)\n",
      "Requirement already satisfied: mashumaro<4.0,>=3.0 in c:\\users\\steve\\appdata\\local\\programs\\python\\python312\\lib\\site-packages (from mashumaro[msgpack]<4.0,>=3.0->dbt-adapters<2,>=1->dbt-duckdb) (3.13.1)\n",
      "Requirement already satisfied: protobuf<5.0,>=3.0 in c:\\users\\steve\\appdata\\local\\programs\\python\\python312\\lib\\site-packages (from dbt-adapters<2,>=1->dbt-duckdb) (4.25.3)\n",
      "Requirement already satisfied: pytz>=2015.7 in c:\\users\\steve\\appdata\\local\\programs\\python\\python312\\lib\\site-packages (from dbt-adapters<2,>=1->dbt-duckdb) (2024.1)\n",
      "Requirement already satisfied: typing-extensions<5.0,>=4.0 in c:\\users\\steve\\appdata\\local\\programs\\python\\python312\\lib\\site-packages (from dbt-adapters<2,>=1->dbt-duckdb) (4.12.2)\n",
      "Requirement already satisfied: colorama<0.5,>=0.3.9 in c:\\users\\steve\\appdata\\local\\programs\\python\\python312\\lib\\site-packages (from dbt-common<2,>=1->dbt-duckdb) (0.4.6)\n",
      "Requirement already satisfied: deepdiff<8.0,>=7.0 in c:\\users\\steve\\appdata\\local\\programs\\python\\python312\\lib\\site-packages (from dbt-common<2,>=1->dbt-duckdb) (7.0.1)\n",
      "Requirement already satisfied: isodate<0.7,>=0.6 in c:\\users\\steve\\appdata\\local\\programs\\python\\python312\\lib\\site-packages (from dbt-common<2,>=1->dbt-duckdb) (0.6.1)\n",
      "Requirement already satisfied: jinja2<4,>=3.1.3 in c:\\users\\steve\\appdata\\local\\programs\\python\\python312\\lib\\site-packages (from dbt-common<2,>=1->dbt-duckdb) (3.1.3)\n",
      "Requirement already satisfied: jsonschema<5.0,>=4.0 in c:\\users\\steve\\appdata\\local\\programs\\python\\python312\\lib\\site-packages (from dbt-common<2,>=1->dbt-duckdb) (4.22.0)\n",
      "Requirement already satisfied: pathspec<0.13,>=0.9 in c:\\users\\steve\\appdata\\local\\programs\\python\\python312\\lib\\site-packages (from dbt-common<2,>=1->dbt-duckdb) (0.12.1)\n",
      "Requirement already satisfied: python-dateutil<3.0,>=2.0 in c:\\users\\steve\\appdata\\local\\programs\\python\\python312\\lib\\site-packages (from dbt-common<2,>=1->dbt-duckdb) (2.9.0.post0)\n",
      "Requirement already satisfied: requests<3.0.0 in c:\\users\\steve\\appdata\\local\\programs\\python\\python312\\lib\\site-packages (from dbt-common<2,>=1->dbt-duckdb) (2.31.0)\n",
      "Requirement already satisfied: logbook<1.6,>=1.5 in c:\\users\\steve\\appdata\\local\\programs\\python\\python312\\lib\\site-packages (from dbt-core>=1.8.0->dbt-duckdb) (1.5.3)\n",
      "Requirement already satisfied: click<9.0,>=8.0.2 in c:\\users\\steve\\appdata\\local\\programs\\python\\python312\\lib\\site-packages (from dbt-core>=1.8.0->dbt-duckdb) (8.1.7)\n",
      "Requirement already satisfied: networkx<4.0,>=2.3 in c:\\users\\steve\\appdata\\local\\programs\\python\\python312\\lib\\site-packages (from dbt-core>=1.8.0->dbt-duckdb) (3.3)\n",
      "Requirement already satisfied: sqlparse<0.6.0,>=0.5.0 in c:\\users\\steve\\appdata\\local\\programs\\python\\python312\\lib\\site-packages (from dbt-core>=1.8.0->dbt-duckdb) (0.5.0)\n",
      "Requirement already satisfied: dbt-extractor<=0.6,>=0.5.0 in c:\\users\\steve\\appdata\\local\\programs\\python\\python312\\lib\\site-packages (from dbt-core>=1.8.0->dbt-duckdb) (0.5.1)\n",
      "Requirement already satisfied: minimal-snowplow-tracker<0.1,>=0.0.2 in c:\\users\\steve\\appdata\\local\\programs\\python\\python312\\lib\\site-packages (from dbt-core>=1.8.0->dbt-duckdb) (0.0.2)\n",
      "Requirement already satisfied: dbt-semantic-interfaces<0.6,>=0.5.1 in c:\\users\\steve\\appdata\\local\\programs\\python\\python312\\lib\\site-packages (from dbt-core>=1.8.0->dbt-duckdb) (0.5.1)\n",
      "Requirement already satisfied: packaging>20.9 in c:\\users\\steve\\appdata\\local\\programs\\python\\python312\\lib\\site-packages (from dbt-core>=1.8.0->dbt-duckdb) (24.0)\n",
      "Requirement already satisfied: pyyaml>=6.0 in c:\\users\\steve\\appdata\\local\\programs\\python\\python312\\lib\\site-packages (from dbt-core>=1.8.0->dbt-duckdb) (6.0.1)\n",
      "Requirement already satisfied: daff>=1.3.46 in c:\\users\\steve\\appdata\\local\\programs\\python\\python312\\lib\\site-packages (from dbt-core>=1.8.0->dbt-duckdb) (1.3.46)\n",
      "Requirement already satisfied: Babel>=2.0 in c:\\users\\steve\\appdata\\local\\programs\\python\\python312\\lib\\site-packages (from agate<2.0,>=1.0->dbt-adapters<2,>=1->dbt-duckdb) (2.15.0)\n",
      "Requirement already satisfied: leather>=0.3.2 in c:\\users\\steve\\appdata\\local\\programs\\python\\python312\\lib\\site-packages (from agate<2.0,>=1.0->dbt-adapters<2,>=1->dbt-duckdb) (0.4.0)\n",
      "Requirement already satisfied: parsedatetime!=2.5,>=2.1 in c:\\users\\steve\\appdata\\local\\programs\\python\\python312\\lib\\site-packages (from agate<2.0,>=1.0->dbt-adapters<2,>=1->dbt-duckdb) (2.6)\n",
      "Requirement already satisfied: python-slugify>=1.2.1 in c:\\users\\steve\\appdata\\local\\programs\\python\\python312\\lib\\site-packages (from agate<2.0,>=1.0->dbt-adapters<2,>=1->dbt-duckdb) (8.0.4)\n",
      "Requirement already satisfied: pytimeparse>=1.1.5 in c:\\users\\steve\\appdata\\local\\programs\\python\\python312\\lib\\site-packages (from agate<2.0,>=1.0->dbt-adapters<2,>=1->dbt-duckdb) (1.1.8)\n",
      "Requirement already satisfied: tzdata>=2023.3 in c:\\users\\steve\\appdata\\local\\programs\\python\\python312\\lib\\site-packages (from agate<2.0,>=1.0->dbt-adapters<2,>=1->dbt-duckdb) (2024.1)\n",
      "Requirement already satisfied: importlib-metadata<7,>=6.0 in c:\\users\\steve\\appdata\\local\\programs\\python\\python312\\lib\\site-packages (from dbt-semantic-interfaces<0.6,>=0.5.1->dbt-core>=1.8.0->dbt-duckdb) (6.11.0)\n",
      "Requirement already satisfied: more-itertools<11.0,>=8.0 in c:\\users\\steve\\appdata\\local\\programs\\python\\python312\\lib\\site-packages (from dbt-semantic-interfaces<0.6,>=0.5.1->dbt-core>=1.8.0->dbt-duckdb) (10.3.0)\n",
      "Requirement already satisfied: pydantic<3,>=1.10 in c:\\users\\steve\\appdata\\local\\programs\\python\\python312\\lib\\site-packages (from dbt-semantic-interfaces<0.6,>=0.5.1->dbt-core>=1.8.0->dbt-duckdb) (2.8.2)\n",
      "Requirement already satisfied: ordered-set<4.2.0,>=4.1.0 in c:\\users\\steve\\appdata\\local\\programs\\python\\python312\\lib\\site-packages (from deepdiff<8.0,>=7.0->dbt-common<2,>=1->dbt-duckdb) (4.1.0)\n",
      "Requirement already satisfied: six in c:\\users\\steve\\appdata\\local\\programs\\python\\python312\\lib\\site-packages (from isodate<0.7,>=0.6->dbt-common<2,>=1->dbt-duckdb) (1.16.0)\n",
      "Requirement already satisfied: MarkupSafe>=2.0 in c:\\users\\steve\\appdata\\local\\programs\\python\\python312\\lib\\site-packages (from jinja2<4,>=3.1.3->dbt-common<2,>=1->dbt-duckdb) (2.1.5)\n",
      "Requirement already satisfied: attrs>=22.2.0 in c:\\users\\steve\\appdata\\local\\programs\\python\\python312\\lib\\site-packages (from jsonschema<5.0,>=4.0->dbt-common<2,>=1->dbt-duckdb) (23.2.0)\n",
      "Requirement already satisfied: jsonschema-specifications>=2023.03.6 in c:\\users\\steve\\appdata\\local\\programs\\python\\python312\\lib\\site-packages (from jsonschema<5.0,>=4.0->dbt-common<2,>=1->dbt-duckdb) (2023.12.1)\n",
      "Requirement already satisfied: referencing>=0.28.4 in c:\\users\\steve\\appdata\\local\\programs\\python\\python312\\lib\\site-packages (from jsonschema<5.0,>=4.0->dbt-common<2,>=1->dbt-duckdb) (0.35.1)\n",
      "Requirement already satisfied: rpds-py>=0.7.1 in c:\\users\\steve\\appdata\\local\\programs\\python\\python312\\lib\\site-packages (from jsonschema<5.0,>=4.0->dbt-common<2,>=1->dbt-duckdb) (0.18.1)\n",
      "Requirement already satisfied: msgpack>=0.5.6 in c:\\users\\steve\\appdata\\local\\programs\\python\\python312\\lib\\site-packages (from mashumaro[msgpack]<4.0,>=3.0->dbt-adapters<2,>=1->dbt-duckdb) (1.0.8)\n",
      "Requirement already satisfied: charset-normalizer<4,>=2 in c:\\users\\steve\\appdata\\local\\programs\\python\\python312\\lib\\site-packages (from requests<3.0.0->dbt-common<2,>=1->dbt-duckdb) (3.3.2)\n",
      "Requirement already satisfied: idna<4,>=2.5 in c:\\users\\steve\\appdata\\local\\programs\\python\\python312\\lib\\site-packages (from requests<3.0.0->dbt-common<2,>=1->dbt-duckdb) (3.7)\n",
      "Requirement already satisfied: urllib3<3,>=1.21.1 in c:\\users\\steve\\appdata\\local\\programs\\python\\python312\\lib\\site-packages (from requests<3.0.0->dbt-common<2,>=1->dbt-duckdb) (2.2.1)\n",
      "Requirement already satisfied: certifi>=2017.4.17 in c:\\users\\steve\\appdata\\local\\programs\\python\\python312\\lib\\site-packages (from requests<3.0.0->dbt-common<2,>=1->dbt-duckdb) (2024.2.2)\n",
      "Requirement already satisfied: zipp>=0.5 in c:\\users\\steve\\appdata\\local\\programs\\python\\python312\\lib\\site-packages (from importlib-metadata<7,>=6.0->dbt-semantic-interfaces<0.6,>=0.5.1->dbt-core>=1.8.0->dbt-duckdb) (3.19.2)\n",
      "Requirement already satisfied: annotated-types>=0.4.0 in c:\\users\\steve\\appdata\\local\\programs\\python\\python312\\lib\\site-packages (from pydantic<3,>=1.10->dbt-semantic-interfaces<0.6,>=0.5.1->dbt-core>=1.8.0->dbt-duckdb) (0.7.0)\n",
      "Requirement already satisfied: pydantic-core==2.20.1 in c:\\users\\steve\\appdata\\local\\programs\\python\\python312\\lib\\site-packages (from pydantic<3,>=1.10->dbt-semantic-interfaces<0.6,>=0.5.1->dbt-core>=1.8.0->dbt-duckdb) (2.20.1)\n",
      "Requirement already satisfied: text-unidecode>=1.3 in c:\\users\\steve\\appdata\\local\\programs\\python\\python312\\lib\\site-packages (from python-slugify>=1.2.1->agate<2.0,>=1.0->dbt-adapters<2,>=1->dbt-duckdb) (1.3)\n",
      "Downloading dbt_duckdb-1.8.4-py3-none-any.whl (62 kB)\n",
      "   ---------------------------------------- 0.0/62.5 kB ? eta -:--:--\n",
      "   ---------------------------------------- 62.5/62.5 kB ? eta 0:00:00\n",
      "Installing collected packages: dbt-duckdb\n",
      "  Attempting uninstall: dbt-duckdb\n",
      "    Found existing installation: dbt-duckdb 1.8.1\n",
      "    Uninstalling dbt-duckdb-1.8.1:\n",
      "      Successfully uninstalled dbt-duckdb-1.8.1\n",
      "Successfully installed dbt-duckdb-1.8.4\n",
      "Note: you may need to restart the kernel to use updated packages.\n"
     ]
    },
    {
     "name": "stderr",
     "output_type": "stream",
     "text": [
      "\n",
      "[notice] A new release of pip is available: 24.1.2 -> 24.2\n",
      "[notice] To update, run: python.exe -m pip install --upgrade pip\n"
     ]
    }
   ],
   "source": [
    "#%pip install --upgrade dbt-duckdb"
   ]
  },
  {
   "cell_type": "code",
   "execution_count": 1,
   "metadata": {},
   "outputs": [
    {
     "name": "stdout",
     "output_type": "stream",
     "text": [
      "Note: you may need to restart the kernel to use updated packages.Requirement already satisfied: dbt-core in c:\\users\\steve\\appdata\\local\\programs\\python\\python312\\lib\\site-packages (1.8.3)\n",
      "Collecting dbt-core\n",
      "  Downloading dbt_core-1.8.7-py3-none-any.whl.metadata (3.9 kB)\n",
      "Requirement already satisfied: agate<1.10,>=1.7.0 in c:\\users\\steve\\appdata\\local\\programs\\python\\python312\\lib\\site-packages (from dbt-core) (1.9.1)\n",
      "Requirement already satisfied: Jinja2<4,>=3.1.3 in c:\\users\\steve\\appdata\\local\\programs\\python\\python312\\lib\\site-packages (from dbt-core) (3.1.3)\n",
      "Requirement already satisfied: mashumaro<4.0,>=3.9 in c:\\users\\steve\\appdata\\local\\programs\\python\\python312\\lib\\site-packages (from mashumaro[msgpack]<4.0,>=3.9->dbt-core) (3.13.1)\n",
      "Requirement already satisfied: logbook<1.6,>=1.5 in c:\\users\\steve\\appdata\\local\\programs\\python\\python312\\lib\\site-packages (from dbt-core) (1.5.3)\n",
      "Requirement already satisfied: click<9.0,>=8.0.2 in c:\\users\\steve\\appdata\\local\\programs\\python\\python312\\lib\\site-packages (from dbt-core) (8.1.7)\n",
      "Requirement already satisfied: networkx<4.0,>=2.3 in c:\\users\\steve\\appdata\\local\\programs\\python\\python312\\lib\\site-packages (from dbt-core) (3.3)\n",
      "Requirement already satisfied: protobuf<5,>=4.0.0 in c:\\users\\steve\\appdata\\local\\programs\\python\\python312\\lib\\site-packages (from dbt-core) (4.25.3)\n",
      "Requirement already satisfied: requests<3.0.0 in c:\\users\\steve\\appdata\\local\\programs\\python\\python312\\lib\\site-packages (from dbt-core) (2.31.0)\n",
      "Requirement already satisfied: pathspec<0.13,>=0.9 in c:\\users\\steve\\appdata\\local\\programs\\python\\python312\\lib\\site-packages (from dbt-core) (0.12.1)\n",
      "Requirement already satisfied: sqlparse<0.6.0,>=0.5.0 in c:\\users\\steve\\appdata\\local\\programs\\python\\python312\\lib\\site-packages (from dbt-core) (0.5.0)\n",
      "Requirement already satisfied: dbt-extractor<=0.6,>=0.5.0 in c:\\users\\steve\\appdata\\local\\programs\\python\\python312\\lib\\site-packages (from dbt-core) (0.5.1)\n",
      "Requirement already satisfied: minimal-snowplow-tracker<0.1,>=0.0.2 in c:\\users\\steve\\appdata\\local\\programs\\python\\python312\\lib\\site-packages (from dbt-core) (0.0.2)\n",
      "Requirement already satisfied: dbt-semantic-interfaces<0.6,>=0.5.1 in c:\\users\\steve\\appdata\\local\\programs\\python\\python312\\lib\\site-packages (from dbt-core) (0.5.1)\n",
      "Requirement already satisfied: dbt-common<2.0,>=1.0.4 in c:\\users\\steve\\appdata\\local\\programs\\python\\python312\\lib\\site-packages (from dbt-core) (1.5.0)\n",
      "Requirement already satisfied: dbt-adapters<2.0,>=1.1.1 in c:\\users\\steve\\appdata\\local\\programs\\python\\python312\\lib\\site-packages (from dbt-core) (1.3.2)\n",
      "Requirement already satisfied: packaging>20.9 in c:\\users\\steve\\appdata\\local\\programs\\python\\python312\\lib\\site-packages (from dbt-core) (24.0)\n",
      "Requirement already satisfied: pytz>=2015.7 in c:\\users\\steve\\appdata\\local\\programs\\python\\python312\\lib\\site-packages (from dbt-core) (2024.1)\n",
      "Requirement already satisfied: pyyaml>=6.0 in c:\\users\\steve\\appdata\\local\\programs\\python\\python312\\lib\\site-packages (from dbt-core) (6.0.1)\n",
      "Requirement already satisfied: daff>=1.3.46 in c:\\users\\steve\\appdata\\local\\programs\\python\\python312\\lib\\site-packages (from dbt-core) (1.3.46)\n",
      "Requirement already satisfied: typing-extensions>=4.4 in c:\\users\\steve\\appdata\\local\\programs\\python\\python312\\lib\\site-packages (from dbt-core) (4.12.2)\n",
      "Requirement already satisfied: Babel>=2.0 in c:\\users\\steve\\appdata\\local\\programs\\python\\python312\\lib\\site-packages (from agate<1.10,>=1.7.0->dbt-core) (2.15.0)\n",
      "Requirement already satisfied: isodate>=0.5.4 in c:\\users\\steve\\appdata\\local\\programs\\python\\python312\\lib\\site-packages (from agate<1.10,>=1.7.0->dbt-core) (0.6.1)\n",
      "Requirement already satisfied: leather>=0.3.2 in c:\\users\\steve\\appdata\\local\\programs\\python\\python312\\lib\\site-packages (from agate<1.10,>=1.7.0->dbt-core) (0.4.0)\n",
      "Requirement already satisfied: parsedatetime!=2.5,>=2.1 in c:\\users\\steve\\appdata\\local\\programs\\python\\python312\\lib\\site-packages (from agate<1.10,>=1.7.0->dbt-core) (2.6)\n",
      "Requirement already satisfied: python-slugify>=1.2.1 in c:\\users\\steve\\appdata\\local\\programs\\python\\python312\\lib\\site-packages (from agate<1.10,>=1.7.0->dbt-core) (8.0.4)\n",
      "Requirement already satisfied: pytimeparse>=1.1.5 in c:\\users\\steve\\appdata\\local\\programs\\python\\python312\\lib\\site-packages (from agate<1.10,>=1.7.0->dbt-core) (1.1.8)\n",
      "Requirement already satisfied: tzdata>=2023.3 in c:\\users\\steve\\appdata\\local\\programs\\python\\python312\\lib\\site-packages (from agate<1.10,>=1.7.0->dbt-core) (2024.1)\n",
      "Requirement already satisfied: colorama in c:\\users\\steve\\appdata\\local\\programs\\python\\python312\\lib\\site-packages (from click<9.0,>=8.0.2->dbt-core) (0.4.6)\n",
      "Requirement already satisfied: deepdiff<8.0,>=7.0 in c:\\users\\steve\\appdata\\local\\programs\\python\\python312\\lib\\site-packages (from dbt-common<2.0,>=1.0.4->dbt-core) (7.0.1)\n",
      "Requirement already satisfied: jsonschema<5.0,>=4.0 in c:\\users\\steve\\appdata\\local\\programs\\python\\python312\\lib\\site-packages (from dbt-common<2.0,>=1.0.4->dbt-core) (4.22.0)\n",
      "Requirement already satisfied: python-dateutil<3.0,>=2.0 in c:\\users\\steve\\appdata\\local\\programs\\python\\python312\\lib\\site-packages (from dbt-common<2.0,>=1.0.4->dbt-core) (2.9.0.post0)\n",
      "Requirement already satisfied: importlib-metadata<7,>=6.0 in c:\\users\\steve\\appdata\\local\\programs\\python\\python312\\lib\\site-packages (from dbt-semantic-interfaces<0.6,>=0.5.1->dbt-core) (6.11.0)\n",
      "Requirement already satisfied: more-itertools<11.0,>=8.0 in c:\\users\\steve\\appdata\\local\\programs\\python\\python312\\lib\\site-packages (from dbt-semantic-interfaces<0.6,>=0.5.1->dbt-core) (10.3.0)\n",
      "Requirement already satisfied: pydantic<3,>=1.10 in c:\\users\\steve\\appdata\\local\\programs\\python\\python312\\lib\\site-packages (from dbt-semantic-interfaces<0.6,>=0.5.1->dbt-core) (2.8.2)\n",
      "Requirement already satisfied: MarkupSafe>=2.0 in c:\\users\\steve\\appdata\\local\\programs\\python\\python312\\lib\\site-packages (from Jinja2<4,>=3.1.3->dbt-core) (2.1.5)\n",
      "Requirement already satisfied: msgpack>=0.5.6 in c:\\users\\steve\\appdata\\local\\programs\\python\\python312\\lib\\site-packages (from mashumaro[msgpack]<4.0,>=3.9->dbt-core) (1.0.8)\n",
      "Requirement already satisfied: six<2.0,>=1.9.0 in c:\\users\\steve\\appdata\\local\\programs\\python\\python312\\lib\\site-packages (from minimal-snowplow-tracker<0.1,>=0.0.2->dbt-core) (1.16.0)\n",
      "Requirement already satisfied: charset-normalizer<4,>=2 in c:\\users\\steve\\appdata\\local\\programs\\python\\python312\\lib\\site-packages (from requests<3.0.0->dbt-core) (3.3.2)\n",
      "Requirement already satisfied: idna<4,>=2.5 in c:\\users\\steve\\appdata\\local\\programs\\python\\python312\\lib\\site-packages (from requests<3.0.0->dbt-core) (3.7)\n",
      "Requirement already satisfied: urllib3<3,>=1.21.1 in c:\\users\\steve\\appdata\\local\\programs\\python\\python312\\lib\\site-packages (from requests<3.0.0->dbt-core) (2.2.1)\n",
      "Requirement already satisfied: certifi>=2017.4.17 in c:\\users\\steve\\appdata\\local\\programs\\python\\python312\\lib\\site-packages (from requests<3.0.0->dbt-core) (2024.2.2)\n",
      "Requirement already satisfied: ordered-set<4.2.0,>=4.1.0 in c:\\users\\steve\\appdata\\local\\programs\\python\\python312\\lib\\site-packages (from deepdiff<8.0,>=7.0->dbt-common<2.0,>=1.0.4->dbt-core) (4.1.0)\n",
      "Requirement already satisfied: zipp>=0.5 in c:\\users\\steve\\appdata\\local\\programs\\python\\python312\\lib\\site-packages (from importlib-metadata<7,>=6.0->dbt-semantic-interfaces<0.6,>=0.5.1->dbt-core) (3.19.2)\n",
      "Requirement already satisfied: attrs>=22.2.0 in c:\\users\\steve\\appdata\\local\\programs\\python\\python312\\lib\\site-packages (from jsonschema<5.0,>=4.0->dbt-common<2.0,>=1.0.4->dbt-core) (23.2.0)\n",
      "Requirement already satisfied: jsonschema-specifications>=2023.03.6 in c:\\users\\steve\\appdata\\local\\programs\\python\\python312\\lib\\site-packages (from jsonschema<5.0,>=4.0->dbt-common<2.0,>=1.0.4->dbt-core) (2023.12.1)\n",
      "Requirement already satisfied: referencing>=0.28.4 in c:\\users\\steve\\appdata\\local\\programs\\python\\python312\\lib\\site-packages (from jsonschema<5.0,>=4.0->dbt-common<2.0,>=1.0.4->dbt-core) (0.35.1)\n",
      "Requirement already satisfied: rpds-py>=0.7.1 in c:\\users\\steve\\appdata\\local\\programs\\python\\python312\\lib\\site-packages (from jsonschema<5.0,>=4.0->dbt-common<2.0,>=1.0.4->dbt-core) (0.18.1)\n",
      "Requirement already satisfied: annotated-types>=0.4.0 in c:\\users\\steve\\appdata\\local\\programs\\python\\python312\\lib\\site-packages (from pydantic<3,>=1.10->dbt-semantic-interfaces<0.6,>=0.5.1->dbt-core) (0.7.0)\n",
      "Requirement already satisfied: pydantic-core==2.20.1 in c:\\users\\steve\\appdata\\local\\programs\\python\\python312\\lib\\site-packages (from pydantic<3,>=1.10->dbt-semantic-interfaces<0.6,>=0.5.1->dbt-core) (2.20.1)\n",
      "Requirement already satisfied: text-unidecode>=1.3 in c:\\users\\steve\\appdata\\local\\programs\\python\\python312\\lib\\site-packages (from python-slugify>=1.2.1->agate<1.10,>=1.7.0->dbt-core) (1.3)\n",
      "Downloading dbt_core-1.8.7-py3-none-any.whl (900 kB)\n",
      "   ---------------------------------------- 0.0/900.5 kB ? eta -:--:--\n",
      "   -- ------------------------------------- 61.4/900.5 kB 3.2 MB/s eta 0:00:01\n",
      "   ------ --------------------------------- 143.4/900.5 kB 2.1 MB/s eta 0:00:01\n",
      "   ---------- ----------------------------- 225.3/900.5 kB 2.0 MB/s eta 0:00:01\n",
      "   ------------- -------------------------- 307.2/900.5 kB 1.9 MB/s eta 0:00:01\n",
      "   ----------------- ---------------------- 389.1/900.5 kB 1.9 MB/s eta 0:00:01\n",
      "   -------------------- ------------------- 471.0/900.5 kB 1.8 MB/s eta 0:00:01\n",
      "   ------------------------- -------------- 563.2/900.5 kB 1.9 MB/s eta 0:00:01\n",
      "   ----------------------------- ---------- 655.4/900.5 kB 1.9 MB/s eta 0:00:01\n",
      "   ---------------------------------- ----- 778.2/900.5 kB 2.0 MB/s eta 0:00:01\n",
      "   ---------------------------------------  880.6/900.5 kB 2.0 MB/s eta 0:00:01\n",
      "   ---------------------------------------- 900.5/900.5 kB 2.0 MB/s eta 0:00:00\n",
      "Installing collected packages: dbt-core\n",
      "  Attempting uninstall: dbt-core\n",
      "    Found existing installation: dbt-core 1.8.3\n",
      "    Uninstalling dbt-core-1.8.3:\n",
      "      Successfully uninstalled dbt-core-1.8.3\n",
      "Successfully installed dbt-core-1.8.7\n",
      "\n"
     ]
    },
    {
     "name": "stderr",
     "output_type": "stream",
     "text": [
      "\n",
      "[notice] A new release of pip is available: 24.1.2 -> 24.2\n",
      "[notice] To update, run: python.exe -m pip install --upgrade pip\n"
     ]
    }
   ],
   "source": [
    "#%pip install --upgrade dbt-core"
   ]
  },
  {
   "cell_type": "code",
   "execution_count": 1,
   "metadata": {},
   "outputs": [
    {
     "name": "stdout",
     "output_type": "stream",
     "text": [
      "Name: duckdb\n",
      "Version: 1.0.0\n",
      "Summary: DuckDB in-process database\n",
      "Home-page: https://www.duckdb.org\n",
      "Author: \n",
      "Author-email: \n",
      "License: MIT\n",
      "Location: c:\\Users\\Steve\\AppData\\Local\\Programs\\Python\\Python312\\Lib\\site-packages\n",
      "Requires: \n",
      "Required-by: dbt-duckdb\n",
      "Note: you may need to restart the kernel to use updated packages.\n"
     ]
    }
   ],
   "source": [
    "%pip show duckdb"
   ]
  },
  {
   "cell_type": "code",
   "execution_count": 4,
   "metadata": {},
   "outputs": [
    {
     "name": "stdout",
     "output_type": "stream",
     "text": [
      "Name: dbt-duckdb\n",
      "Version: 1.8.1\n",
      "Summary: The duckdb adapter plugin for dbt (data build tool)\n",
      "Home-page: https://github.com/jwills/dbt-duckdb\n",
      "Author: Josh Wills\n",
      "Author-email: joshwills+dbt@gmail.com\n",
      "License: \n",
      "Location: c:\\Users\\Steve\\AppData\\Local\\Programs\\Python\\Python312\\Lib\\site-packages\n",
      "Requires: dbt-adapters, dbt-common, dbt-core, duckdb\n",
      "Required-by: \n",
      "Note: you may need to restart the kernel to use updated packages.\n"
     ]
    }
   ],
   "source": [
    "%pip show dbt-duckdb"
   ]
  },
  {
   "cell_type": "code",
   "execution_count": 5,
   "metadata": {},
   "outputs": [
    {
     "name": "stdout",
     "output_type": "stream",
     "text": [
      "Requirement already satisfied: pyspark in c:\\users\\steve\\appdata\\local\\programs\\python\\python312\\lib\\site-packages (3.5.1)\n",
      "Requirement already satisfied: py4j==0.10.9.7 in c:\\users\\steve\\appdata\\local\\programs\\python\\python312\\lib\\site-packages (from pyspark) (0.10.9.7)\n",
      "Note: you may need to restart the kernel to use updated packages.\n"
     ]
    },
    {
     "name": "stderr",
     "output_type": "stream",
     "text": [
      "\n",
      "[notice] A new release of pip is available: 24.0 -> 24.1.2\n",
      "[notice] To update, run: python.exe -m pip install --upgrade pip\n"
     ]
    }
   ],
   "source": [
    "#%pip install pyspark"
   ]
  },
  {
   "cell_type": "code",
   "execution_count": 6,
   "metadata": {},
   "outputs": [
    {
     "name": "stdout",
     "output_type": "stream",
     "text": [
      "Name: pyspark\n",
      "Version: 3.5.1\n",
      "Summary: Apache Spark Python API\n",
      "Home-page: https://github.com/apache/spark/tree/master/python\n",
      "Author: Spark Developers\n",
      "Author-email: dev@spark.apache.org\n",
      "License: http://www.apache.org/licenses/LICENSE-2.0\n",
      "Location: c:\\Users\\Steve\\AppData\\Local\\Programs\\Python\\Python312\\Lib\\site-packages\n",
      "Requires: py4j\n",
      "Required-by: \n",
      "Note: you may need to restart the kernel to use updated packages.\n"
     ]
    }
   ],
   "source": [
    "%pip show pyspark"
   ]
  },
  {
   "cell_type": "markdown",
   "metadata": {},
   "source": [
    "# 1. Creating a dbt project\n",
    "Welcome back! We've learned a little about dbt as a tool and a command-line application, but let's now discuss dbt projects and how they're used.\n",
    "\n",
    "## 2. What is a dbt project\n",
    "So what is a project in the context of dbt? Projects encompass all the needed (and optional) components for working with data within dbt. \n",
    "\n",
    "The project configuration includes the project name, folder names, etc. Data sources and destinations, such as where the source data comes from, as well as any destination data warehouses. \n",
    "dbt projects also include the SQL queries and templates that define how to access and transform the data into the desired formats. A dbt project can also include documentation for the data and the relationships within it. It's important to note that a dbt project is implemented as a folder structure on a given machine. As such, it can be easily copied, modified, or placed into source control as needed. We'll cover each of these further in this and later chapters.\n",
    "\n",
    "## 3. How to create a new project\n",
    "The next question is how do we actually create a project within dbt. This is accomplished with the `dbt init` subcommand.\n",
    "When running dbt init, it typically asks two questions: the name of the project and which database or data warehouse type you'd like to use. \n",
    "\n",
    "You can consolidate the command line entry as dbt init projectname, which will then only ask for the database type. dbt init will then create the top-level project folder and subfolders and configuration files for the project. Here is a quick example of running dbt init with a project name of test_project and using duckdb as our database type.\n",
    "\n",
    "## 4. Defining configuration with project profiles\n",
    "The next thing to understand about dbt projects is the idea of a profile. Within dbt, a profile is most analogous to a given deployment scenario. This can include development, staging or testing, and production. \n",
    "\n",
    "Each profile can be defined as the user sees fit. Multiple profiles can exist within a given dbt project, allowing for different warehouse configurations based on the deployment scenario. These profiles (ie, configurations) are defined in the profiles.yml (or profiles dot yaml) file, which is not automatically created on a new project. This is an example profiles.yml file with two deployment types (dev and prod), and the default, as set by the option target, is currently set to dev. You may also be wondering why to select DuckDB vs Snowflake for either scenario. DuckDB is useful for development and testing locally, while Snowflake would be better used in production as other users will likely need to access the data.\n",
    "\n",
    "## 5. YAML\n",
    "Depending on your experience, you may be wondering what YAML is. YAML stands for Yet Another Markup Language. It is a text based file format, but whitespace indentation matters, much like Python. YAML is used in many development scenarios, often for configuration, due to its relatively human-readable format. The rules for writing or modifying YAML can be tricky, but maintain indentation as illustrated in examples. You can see this in the profiles.yml example, where dev: and prod: are at the same level of indentation. A YAML skeleton will be provided in this course, but be aware of the formatting requirements if you need to create one from scratch.\n",
    "\n",
    "## 6. DuckDB\n",
    "Another term you may have noticed is DuckDB. DuckDB is an open-source serverless database, similar to sqlite. This means there is not a server process required, in contrast to postgresql or mysql. It is designed for analytics, ie, data warehouses, and is fast due to its vectorized nature. We're using DuckDB in this course as it's easy to use, and works with dbt, thanks to the dbt-duckdb adapter. We won't cover much about DuckDB, but note that you can access DuckDB easily on your computer or in a DataCamp Workspace.\n",
    "\n",
    "## 7. Let's Practice!\n",
    "Let's take what we've learned and create our first dbt project in the exercises ahead. "
   ]
  },
  {
   "cell_type": "markdown",
   "metadata": {},
   "source": [
    "# 1. Working with a first project\n",
    "We've reached the last video of the chapter! Let's look at the process for working with your dbt project(s).\n",
    "\n",
    "## 2. Workflow for dbt\n",
    "A workflow for dbt depends somewhat on the user's needs, but typically follows as First, create the project using dbt init (or copy a working project from another location) \n",
    "Next, define or update its configuration in the profiles.yml file. We've already done these steps. \n",
    "The next step, and where you'll spend most of your time developing with dbt, is defining and using the data models. We'll go over what a model represents more in the next chapter. \n",
    "For now, it's basically the transformed version(s) of your data that you wish to make accessible in the data warehouse. Once the models are defined, we need to instantiate them using the `dbt run` subcommand. This command will take the source SQL code you've written, translate it as necessary for your deployment target (aka, profile), and actually execute the transformation process. \n",
    "When complete, you'll need to verify and test your data and, if necessary, troubleshoot any issues. Finally, this process is repeated as necessary, typically going back to the model level when a new data source is required.\n",
    "\n",
    "## 3. Verifying database connections\n",
    "One step often needed for working with dbt is verifying the connectivity to a database or data warehouse. dbt includes the subcommand dbt debug, which is designed to check the connections to your defined databases or warehouses. Note that the data warehouse must be created and accessible first, or you will see failures in the output. When using DuckDB and dbt, this may require executing dbt run prior to use. We'll mention this for any exercise that requires it in this course.\n",
    "\n",
    "## 4. dbt run\n",
    "As noted previously, dbt run is the subcommand that actually performs the data transformations and pushes updates to the warehouse. It should be run whenever there are model changes, or when the data process needs to be materialized. Make sure to analyze the output of the dbt run command - it provides many details on the success or failures of each step in the dbt process. Please note that in this circumstance, materialized has a specific meaning in dbt. It means to execute the transformations on the source data and place the results into tables or views.\n",
    "\n",
    "```sql\n",
    "-- Modify the following line to change the materialization type\n",
    "with source_data as (\n",
    "    -- Add the query as described to generate the data model\n",
    "    select * from read_parquet('yellow_tripdata_2023-01-partial.parquet')\n",
    ")\n",
    "\n",
    "select * from source_data\n",
    "```\n",
    "\n",
    "```bash\n",
    "#!/usr/bin/env python3\n",
    "import duckdb\n",
    "con = duckdb.connect('dbt.duckdb', read_only=True)\n",
    "print(con.sql('select * from taxi_rides_raw limit 10'))\n",
    "print(con.sql('select count(*) as total_rides from taxi_rides_raw'))\n",
    "if (con.execute('select count(*) as total_rides from taxi_rides_raw').fetchall()[0][0] == 300000):\n",
    "  with open('/home/repl/workspace/successful_data_check', 'w') as f:\n",
    "    f.write('300000')\n",
    "\n",
    "```\n",
    "\n",
    "\n",
    "## 5. Table vs View\n",
    "One thing to remember is the difference between tables and views within a database or data warehouse. There's a lot of technical implementation details, but in general a table is an object within a database or warehouse that actually holds data. These objects take up space within the database, relative to the size of data inserted into the database. The content of a table is only updated when a specific command changes said data. Views, act like a table and are queryable as such, but they actually hold no information. As such, they take up very little space within the database itself. A view is usually defined as a select query against another table or tables. As such, the content in the response is generated with each query. We don't cover the implementation details here, but are introducing them as dbt can create tables or views within a database depending on the configurations you define. The actual implementation details for tables and views will be dependent on the database in question.\n",
    "\n",
    "```sql\n",
    "-- Modify the following line to change the materialization type\n",
    "{{ config(materialized='table')}}\n",
    "\n",
    "\n",
    "with source_data as (\n",
    "    select * from read_parquet('yellow_tripdata_2023-01-partial.parquet')\n",
    ")\n",
    "\n",
    "select * from source_data\n",
    "\n",
    "```\n",
    "\n",
    "## 6. Let's practice!\n",
    "We've covered a lot of information about the basics of using dbt for a first project. Let's practice some of these ideas in the exercises ahead. "
   ]
  },
  {
   "cell_type": "markdown",
   "metadata": {},
   "source": [
    "# 1. What is a dbt model?\n",
    "Let's take the next few minutes to discuss the idea of a dbt model, what it is, and how it's used within dbt.\n",
    "\n",
    "## 2. What is a data model?\n",
    "Before we get into how dbt defines and uses models, let's discuss the general definition of a data model. A data model is a conceptual idea with different definitions depending on the context it's used. In general, a data model represents the logical meaning behind a set of data, whether a database table, Dataframe, data structure, or so forth. This could be a group of orders, customers, or something like the details of earthquakes in a given region. The data model also represents how a set of data and its various components relate to each other. An example here could be various features of an animal, such as the number of legs, does it fly, etc, and how that information is maintained within the dataset. One of the primary purposes behind a data model is to help users collaborate and understand the data in a common way. In our example, we've created a list of species of animals, the number of legs, and if the animal is venomous. While a very simple model, this creates an agreed upon list of features that we use when discussing an animal. This provides for the collaboration between users / programs / and so forth as we have a defined set of attributes for communicating about the animal. Obviously we could use a different set of attributes to define our model of an animal. The selection of these attributes can define the effectiveness of the model. You should recognize that there are always trade-offs made when defining a model, including complexity, amount of space required, etc.\n",
    "\n",
    "## 3. What is a model in dbt?\n",
    "A model in dbt represents something more specific than a basic data model - it represents the various transformations performed on the raw source datasets. These transformations are typically written in SQL, though newer versions of dbt can use Python for models / transformations. Note that we won't be covering Python models in this course. Each model, or transformation, is usually a SELECT query, transforming the source data as desired. These queries are then saved in a text file, with a .sql extension. dbt will automatically use these files when tasked with various operations, such as dbt run.\n",
    "\n",
    "## 4. Simple dbt model\n",
    "Let's discuss for a moment the basics of creating a model in dbt. The first step is to create a directory under the models directory in your dbt project. This directory can be named anything, but may be referenced later, so it's best to keep it consistent. Next, a dot sql file is created as a text file. This can be done at the command line with a tool like touch, or via a text editor. The most important part is to create and add the appropriate SQL statement to the text file. In this case, we select the first_name and last_name columns from a table named source_table. Finally, we must execute the `dbt run` command to create, or rather materialize, the model.\n",
    "\n",
    "## 5. Reading from Parquet\n",
    "A quick aside before moving on, we need to mention the Parquet format. Parquet is a columnar, binary file format used by many tools to efficiently store data. It is becoming widespread for the purposes of sharing and distributing datasets. If you're not familiar with the term, in this case, columnar is in contrast to row-based, like Avro or typical relational database formats. Some of the common tools that work with Parquet are Apache Spark, Apache Arrow, and DuckDB. DuckDB is able to read Parquet files directly, without the need to import the data first. This can be done using the read_parquet function in a SQL query. An example query could be SELECT * FROM read_parquet open parenthesis single quote filename dot parquet end quote close parenthesis. You can also skip using the read_parquet if desired and reference the Parquet file using it directly in single quotes.\n",
    "\n",
    "## 6. Let's practice!\n",
    "There's a lot to learn about models in dbt, but first let's practice what we've covered so far in the exercises ahead. We'll cover more in the next lesson. "
   ]
  },
  {
   "cell_type": "markdown",
   "metadata": {},
   "source": [
    "# 1. Updating dbt models\n",
    "Welcome back! Our next topic is the idea of updating models in dbt, whether those are ones we've created directly, or those created by colleagues.\n",
    "\n",
    "\n",
    "```bash\n",
    "-- Update with SQL to return requested information\n",
    "select \n",
    "  date_part('day', tpep_pickup_datetime) as day,\n",
    "  count(*) as total_riders\n",
    "from taxi_rides_raw\n",
    "where Payment_type = 1\n",
    "group by day\n",
    "```\n",
    "\n",
    "## 2. Why update?\n",
    "An advantage of working with dbt is to easily make changes to your project or your team's project without requiring you to start from scratch. Let's take a moment to review some reasons why you'd want to update your models: It could be an iterative task, where the requirements for your project have changed or have not been fully implemented yet. A common scenario is fixing bugs in the queries that define the models. Given that SQL can be considered a programming language of its own, there are likely to be issues that need to be fixed. Migrating the data, be it source or destination locations, can also require an update to your project.\n",
    "\n",
    "    1 Photo by Caspar Camille Rubin on Unsplash\n",
    "\n",
    "## 3. Update workflow\n",
    "As we've discussed why you'd need to update your models, let's look at a potential workflow to use when updating a dbt project. The first step is to check out a dbt project from your source control system, such as git. An example would be git clone dbt_project, then opening the dbt_project folder. You don't have to use git with dbt, but it is one of the advantages of doing, so as you can easily track changes / updates / modifications. Once you have the current project source, you'll want to find the appropriate model file in question and then update the query contents. This could be updating the query directly, creating a subquery, or otherwise modifying the .sql file contents. After updating the model or models, you'll need to apply these changes to the project. This can usually be done by simply running dbt run. Occasionally, larger changes need a full refresh of the model, which can be done by adding dash f to the dbt run command. If you see an error in your update or the results don't appear as expected, you might want to add the full refresh option and try again. Note that depending on your data and models, it might take a bit longer to run than a simple update. Finally, if any updates have been made and verified to work, you'll want to check the changes back into source control to keep the process easy in the future.\n",
    "\n",
    "## 4. YAML files\n",
    "In addition to directly updating .sql files for dbt models, you may also need to make changes in some YAML / .yml files. Typically these updates would be in one of two types of files, either the dbt_project.yml file or in a model_properties.yml file.\n",
    "\n",
    "## 5. dbt_project.yml\n",
    "The dbt_project.yml file contains settings that relate to the full project. This can include things such as the project name and version, as well as directory locations. The materialization settings for a model can also reside here, though settings in this file are applied globally. These include defined whether models are created as tables / views / etc in the data warehouse. Note that there is one dbt_project.yml file per project.\n",
    "\n",
    "## 6. model_properties.yml\n",
    "The model_properties.yml file is specific to settings and details for model information. This can include description, documentation details, and much more. We'll cover some more of this later in the course, but refer to the dbt documentation for more information. One interesting note is the file can actually be named anything as long as it exists somewhere in the models/ subdirectory and ends in a .yml extension. You can also have as many of these .yml files as needed.\n",
    "\n",
    "## 7. Let's practice!\n",
    "We've learned about updating our project and models. Let's practice these details in the coming exercises. "
   ]
  },
  {
   "cell_type": "markdown",
   "metadata": {},
   "source": [
    "# 1. Hierarchical models in dbt\n",
    "Welcome back to our next topic! We've covered the basics of working with and updating models. Let's now take a look at hierarchical models and the components that go with them.\n",
    "\n",
    "## 2. What is a hierarchy in dbt?\n",
    "Our first question is, what is a hierarchy in dbt? A hierarchy represents the dependencies between models, meaning the relationship between source and transformed data. This is also known as a DAG, or a directed acyclic graph. It's sometimes known as a lineage graph. Note that while a DAG is a common concept in data engineering tools, such as Spark, Airflow, and so forth, we're referring to a DAG specifically as implemented in dbt. The primary purpose of a DAG or hierarchy is it allows models to be built and updated with their dependencies in mind. This forces dbt to determine the order that models must be built and run accordingly. If you look at the simple lineage graph to our right, the avg_fare_per_day and total_creditcard_riders_per_day tables depend on the taxi_rides_raw table. dbt will build the taxi_rides_raw table first, to make certain the data is available to build the other downstream tables. It should be noted that without the lineage graph, the tables would be built in alphabetical order, which would fail when attempting to build the avg_fare_per_day model as taxi_rides_raw would not yet be built.\n",
    "\n",
    "## 3. How are hierarchies defined?\n",
    "The next question is how are hierarchies defined in dbt? We can use the Jinja template language to define the model dependencies. This is done within the model definition file, meaning the .sql file. We'll discuss more about Jinja shortly. Most often, we'll define the hierarchies using the ref function within a Jinja template. To actually define a dependency, we simply replace the table name in our query with two opening curly braces, then ref open parenthesis single quote model name end quote close parenthesis, followed by two closing braces in our SQL query. The next step is to use dbt run, which will materialize the models. dbt will replace the ref templates with the actual table names in the generated SQL file A quick example illustrates the change - in the first query, we're directly using the name of the table. While this works, we may run into issues if the table is not created yet. To add the dependency, you'll notice we change the table name from taxi_rides_raw to {{ ref('taxi_rides_raw') }}.\n",
    "\n",
    "## 4. Jinja templating language\n",
    "We're not going to discuss it in depth, but I wanted to mention Jinja. If you're not familiar with it, Jinja is a simple text-based templating system used in many tools beyond just dbt, such as Django and Flask. Another way to consider the meaning of a template is simply one of substitution. To define a Jinja template, simply put the desired content between two opening and closing curly braces within your text files. When dbt is run, it will replace the contents of the braces with the correct result. The dbt tool has many Jinja functions available for use in projects. This allows for more dynamic usage of dbt, such as with different source and destination data locations. Some of the many Jinja functions in dbt include ref, which you've already seen. The config command is an easy way to access config settings, and the docs command allows access to various documentation content. There are, of course, many other Jinja templates made available for this project. We'll cover some more of these later in the course.\n",
    "\n",
    "## 5. Let's practice!\n",
    "We've covered a lot in this video - let's practice our new skills in the exercises ahead! "
   ]
  }
 ],
 "metadata": {
  "kernelspec": {
   "display_name": "Python 3",
   "language": "python",
   "name": "python3"
  },
  "language_info": {
   "codemirror_mode": {
    "name": "ipython",
    "version": 3
   },
   "file_extension": ".py",
   "mimetype": "text/x-python",
   "name": "python",
   "nbconvert_exporter": "python",
   "pygments_lexer": "ipython3",
   "version": "3.12.4"
  }
 },
 "nbformat": 4,
 "nbformat_minor": 2
}
